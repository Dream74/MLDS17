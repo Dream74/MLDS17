{
 "cells": [
  {
   "cell_type": "code",
   "execution_count": 2,
   "metadata": {},
   "outputs": [
    {
     "name": "stderr",
     "output_type": "stream",
     "text": [
      "Using TensorFlow backend.\n"
     ]
    }
   ],
   "source": [
    "%matplotlib inline \n",
    "\n",
    "\n",
    "from __future__ import absolute_import\n",
    "from __future__ import division\n",
    "from __future__ import print_function\n",
    "\n",
    "import gzip\n",
    "import os\n",
    "import sys\n",
    "\n",
    "import cv2\n",
    "import numpy as np\n",
    "import matplotlib.pyplot as plt\n",
    "import pandas as pd\n",
    "\n",
    "import keras\n",
    "from keras.models import Sequential, Model\n",
    "from keras.layers import Dense, Dropout, Flatten, Conv2D, MaxPooling2D"
   ]
  },
  {
   "cell_type": "markdown",
   "metadata": {},
   "source": [
    "Loading train and test data by network library"
   ]
  },
  {
   "cell_type": "code",
   "execution_count": 4,
   "metadata": {
    "collapsed": true
   },
   "outputs": [],
   "source": [
    "_IMAGE_SIZE = 28\n",
    "\n",
    "def _extract_images(filename, num_images):\n",
    "  \"\"\"Extract the images into a numpy array.\n",
    "  Args:\n",
    "    filename: The path to an MNIST images file.\n",
    "    num_images: The number of images in the file.\n",
    "  Returns:\n",
    "    A numpy array of shape [number_of_images, height, width, channels].\n",
    "  \"\"\"\n",
    "  print('Extracting images from: ', filename)\n",
    "  with gzip.open(filename) as bytestream:\n",
    "    bytestream.read(16)\n",
    "    buf = bytestream.read(_IMAGE_SIZE * _IMAGE_SIZE * num_images )\n",
    "    data = np.frombuffer(buf, dtype=np.uint8)\n",
    "    data = data.reshape(num_images, _IMAGE_SIZE, _IMAGE_SIZE, 1)\n",
    "  return data\n",
    "\n",
    "def _extract_labels(filename, num_labels):\n",
    "  \"\"\"Extract the labels into a vector of int64 label IDs.\n",
    "  Args:\n",
    "    filename: The path to an MNIST labels file.\n",
    "    num_labels: The number of labels in the file.\n",
    "  Returns:\n",
    "    A numpy array of shape [number_of_labels]\n",
    "  \"\"\"\n",
    "  print('Extracting labels from: ', filename)\n",
    "  with gzip.open(filename) as bytestream:\n",
    "    bytestream.read(8)\n",
    "    buf = bytestream.read(1 * num_labels)\n",
    "    labels = np.frombuffer(buf, dtype=np.uint8).astype(np.int64)\n",
    "  return labels"
   ]
  },
  {
   "cell_type": "markdown",
   "metadata": {},
   "source": [
    "Loading Data"
   ]
  },
  {
   "cell_type": "code",
   "execution_count": 5,
   "metadata": {},
   "outputs": [
    {
     "name": "stdout",
     "output_type": "stream",
     "text": [
      "Extracting images from:  ./data/train-images-idx3-ubyte.gz\n",
      "Extracting labels from:  ./data/train-labels-idx1-ubyte.gz\n",
      "Extracting images from:  ./data/t10k-images-idx3-ubyte.gz\n",
      "Extracting labels from:  ./data/t10k-labels-idx1-ubyte.gz\n"
     ]
    }
   ],
   "source": [
    "trainX = _extract_images('./data/train-images-idx3-ubyte.gz', 60000)\n",
    "trainY = _extract_labels('./data/train-labels-idx1-ubyte.gz', 60000)\n",
    "\n",
    "testX = _extract_images('./data/t10k-images-idx3-ubyte.gz', 10000)\n",
    "testY = _extract_labels('./data/t10k-labels-idx1-ubyte.gz', 10000)"
   ]
  },
  {
   "cell_type": "code",
   "execution_count": 6,
   "metadata": {},
   "outputs": [
    {
     "name": "stdout",
     "output_type": "stream",
     "text": [
      "(60000, 28, 28, 1)\n",
      "(60000,)\n"
     ]
    }
   ],
   "source": [
    "print(trainX.shape)\n",
    "print(trainY.shape)"
   ]
  },
  {
   "cell_type": "markdown",
   "metadata": {},
   "source": [
    "Visualize data"
   ]
  },
  {
   "cell_type": "code",
   "execution_count": 7,
   "metadata": {},
   "outputs": [
    {
     "data": {
      "image/png": "[encoded data removed]",
      "text/plain": [
       "<matplotlib.figure.Figure at 0x120537d30>"
      ]
     },
     "metadata": {},
     "output_type": "display_data"
    }
   ],
   "source": [
    "fig = plt.figure(figsize=(12,12))\n",
    "\n",
    "for i in range(4):\n",
    "    ax = fig.add_subplot(1,4, i+1)\n",
    "    plt.title(trainY[i])\n",
    "    plt.imshow(trainX[i].reshape(28, 28), cmap='gray')"
   ]
  },
  {
   "cell_type": "markdown",
   "metadata": {},
   "source": [
    "Pre-Processing (Normallize feature, Onehot encoding)"
   ]
  },
  {
   "cell_type": "code",
   "execution_count": 8,
   "metadata": {},
   "outputs": [],
   "source": [
    "trainX = trainX.astype('float32')\n",
    "testX = testX.astype('float32')\n",
    "\n",
    "# Normalize feature (from 0~255 to 0~1)\n",
    "trainX /= 255.\n",
    "testX /= 255.\n",
    "\n",
    "# one-hot encoding for labels\n",
    "trainY = keras.utils.to_categorical(trainY, 10)\n",
    "testY = keras.utils.to_categorical(testY, 10)"
   ]
  },
  {
   "cell_type": "code",
   "execution_count": 9,
   "metadata": {},
   "outputs": [],
   "source": [
    "# model = Sequential()\n",
    "# model.add(Flatten(input_shape=(28, 28)))\n",
    "# model.add(Dense(512, activation='relu'))\n",
    "# model.add(Dense(512, activation='relu'))\n",
    "# model.add(Dense(10, activation='softmax'))\n",
    "\n",
    "# model.summary()\n",
    "\n",
    "# # Test loss: 0.0029029690404\n",
    "# # Test accuracy: 0.9834"
   ]
  },
  {
   "cell_type": "code",
   "execution_count": 10,
   "metadata": {},
   "outputs": [
    {
     "name": "stdout",
     "output_type": "stream",
     "text": [
      "_________________________________________________________________\n",
      "Layer (type)                 Output Shape              Param #   \n",
      "=================================================================\n",
      "conv2d_1 (Conv2D)            (None, 26, 26, 32)        320       \n",
      "_________________________________________________________________\n",
      "conv2d_2 (Conv2D)            (None, 24, 24, 64)        18496     \n",
      "_________________________________________________________________\n",
      "max_pooling2d_1 (MaxPooling2 (None, 12, 12, 64)        0         \n",
      "_________________________________________________________________\n",
      "dropout_1 (Dropout)          (None, 12, 12, 64)        0         \n",
      "_________________________________________________________________\n",
      "flatten_1 (Flatten)          (None, 9216)              0         \n",
      "_________________________________________________________________\n",
      "dense_1 (Dense)              (None, 128)               1179776   \n",
      "_________________________________________________________________\n",
      "dropout_2 (Dropout)          (None, 128)               0         \n",
      "_________________________________________________________________\n",
      "dense_2 (Dense)              (None, 10)                1290      \n",
      "=================================================================\n",
      "Total params: 1,199,882\n",
      "Trainable params: 1,199,882\n",
      "Non-trainable params: 0\n",
      "_________________________________________________________________\n"
     ]
    }
   ],
   "source": [
    "model = Sequential()\n",
    "model.add(Conv2D(32, \n",
    "                 (3, 3),\n",
    "                 activation='relu',\n",
    "                 input_shape=(28, 28, 1)\n",
    "                ))\n",
    "model.add(Conv2D(64, (3, 3), activation='relu'))\n",
    "model.add(MaxPooling2D(pool_size=(2, 2)))\n",
    "model.add(Dropout(0.25))\n",
    "model.add(Flatten())\n",
    "model.add(Dense(128, activation='relu'))\n",
    "model.add(Dropout(0.5))\n",
    "model.add(Dense(10, activation='softmax'))\n",
    "model.summary()\n",
    "\n",
    "# Epoch 10/10\n",
    "# 319s - loss: 0.0271 - acc: 0.9913 - val_loss: 0.0302 - val_acc: 0.9910"
   ]
  },
  {
   "cell_type": "code",
   "execution_count": 11,
   "metadata": {},
   "outputs": [],
   "source": [
    "# model = Sequential()\n",
    "# model.add(Flatten(input_shape=(28, 28)))\n",
    "# model.add(Dense(512, activation='relu'))\n",
    "# model.add(Dropout(0.2))\n",
    "# model.add(Dense(512, activation='relu'))\n",
    "# model.add(Dropout(0.2))\n",
    "# model.add(Dense(10, activation='softmax'))\n",
    "\n",
    "# model.summary()\n",
    "# # loss: 0.0227 - acc: 0.9922 - val_loss: 0.0703 - val_acc: 0.9808"
   ]
  },
  {
   "cell_type": "code",
   "execution_count": 12,
   "metadata": {
    "collapsed": true
   },
   "outputs": [],
   "source": [
    "model.compile(loss='categorical_crossentropy', \n",
    "              optimizer='adam',\n",
    "              metrics=['accuracy'])"
   ]
  },
  {
   "cell_type": "code",
   "execution_count": 13,
   "metadata": {},
   "outputs": [
    {
     "name": "stdout",
     "output_type": "stream",
     "text": [
      "Train on 60000 samples, validate on 10000 samples\n",
      "Epoch 1/10\n",
      "290s - loss: 0.3215 - acc: 0.9009 - val_loss: 0.0601 - val_acc: 0.9812\n",
      "Epoch 2/10\n",
      "270s - loss: 0.0975 - acc: 0.9710 - val_loss: 0.0453 - val_acc: 0.9860\n",
      "Epoch 3/10\n",
      "289s - loss: 0.0718 - acc: 0.9781 - val_loss: 0.0374 - val_acc: 0.9871\n",
      "Epoch 4/10\n",
      "285s - loss: 0.0586 - acc: 0.9825 - val_loss: 0.0342 - val_acc: 0.9890\n",
      "Epoch 5/10\n",
      "287s - loss: 0.0498 - acc: 0.9848 - val_loss: 0.0325 - val_acc: 0.9893\n",
      "Epoch 6/10\n",
      "297s - loss: 0.0421 - acc: 0.9870 - val_loss: 0.0329 - val_acc: 0.9894\n",
      "Epoch 7/10\n",
      "297s - loss: 0.0378 - acc: 0.9885 - val_loss: 0.0286 - val_acc: 0.9905\n",
      "Epoch 8/10\n",
      "327s - loss: 0.0329 - acc: 0.9891 - val_loss: 0.0333 - val_acc: 0.9900\n",
      "Epoch 9/10\n",
      "300s - loss: 0.0317 - acc: 0.9896 - val_loss: 0.0305 - val_acc: 0.9904\n",
      "Epoch 10/10\n",
      "319s - loss: 0.0271 - acc: 0.9913 - val_loss: 0.0302 - val_acc: 0.9910\n"
     ]
    }
   ],
   "source": [
    "hist = model.fit(trainX, trainY, \n",
    "                 batch_size=300,\n",
    "                 epochs=10, \n",
    "                 verbose=2,\n",
    "                 validation_data=(testX, testY))\n"
   ]
  },
  {
   "cell_type": "code",
   "execution_count": 14,
   "metadata": {},
   "outputs": [
    {
     "data": {
      "image/png": "[encoded data removed]",
      "text/plain": [
       "<matplotlib.figure.Figure at 0x12fc8e860>"
      ]
     },
     "metadata": {},
     "output_type": "display_data"
    }
   ],
   "source": [
    "plt.figure(figsize=(20, 20))\n",
    "\n",
    "xc = range(len(hist.history['loss']))\n",
    "for k, v in hist.history.items():\n",
    "    plt.plot(xc, v, label=k)\n",
    "\n",
    "plt.legend()\n",
    "plt.grid()"
   ]
  },
  {
   "cell_type": "markdown",
   "metadata": {},
   "source": [
    "# Confusion matrix"
   ]
  },
  {
   "cell_type": "code",
   "execution_count": 43,
   "metadata": {},
   "outputs": [
    {
     "name": "stdout",
     "output_type": "stream",
     "text": [
      "\t[Info] Display Confusion Matrix:\n",
      "predict    0     1     2     3    4    5    6     7    8    9\n",
      "label                                                        \n",
      "0        976     0     1     1    0    0    1     0    1    0\n",
      "1          0  1131     2     1    0    0    1     0    0    0\n",
      "2          2     0  1021     0    2    0    0     7    0    0\n",
      "3          0     0     2  1005    0    1    0     0    2    0\n",
      "4          0     0     0     0  974    0    2     0    0    6\n",
      "5          1     0     0     5    0  885    1     0    0    0\n",
      "6          4     2     0     0    4    4  942     0    2    0\n",
      "7          0     2     2     1    0    0    0  1021    1    1\n",
      "8          3     0     1     1    1    0    0     1  965    2\n",
      "9          0     1     0     0    6    5    1     3    3  990\n",
      "\n"
     ]
    }
   ],
   "source": [
    "predY = model.predict(testX)\n",
    "\n",
    "testLabel = np.argmax(testY, axis=1)\n",
    "predLabel = np.argmax(predY, axis=1)\n",
    "\n",
    "print(\"\\t[Info] Display Confusion Matrix:\")  \n",
    "print(\"%s\\n\" % pd.crosstab(testLabel, predLabel, rownames=['label'], colnames=['predict']))  "
   ]
  }
 ],
 "metadata": {
  "kernelspec": {
   "display_name": "Python 3",
   "language": "python",
   "name": "python3"
  }
 },
 "nbformat": 4,
 "nbformat_minor": 2
}
